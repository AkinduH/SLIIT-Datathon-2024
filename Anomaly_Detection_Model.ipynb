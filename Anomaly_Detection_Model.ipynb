{
 "cells": [
  {
   "cell_type": "code",
   "execution_count": 1,
   "metadata": {},
   "outputs": [],
   "source": [
    "import pandas as pd\n",
    "import numpy as np\n",
    "import matplotlib.pyplot as plt"
   ]
  },
  {
   "cell_type": "code",
   "execution_count": 2,
   "metadata": {},
   "outputs": [],
   "source": [
    "df_A = pd.read_csv(\"Datasets\\df_A.csv\")\n",
    "df_B = pd.read_csv(\"Datasets\\df_B.csv\")"
   ]
  },
  {
   "cell_type": "code",
   "execution_count": 18,
   "metadata": {},
   "outputs": [],
   "source": [
    "# List of DataFrame names for location_A\n",
    "df_names_A = [\n",
    "    \"A1_df\", \"A2_df\", \"A3_df\", \"A5_df\", \"A12_df\", \"A19_df\", \"A20_df\", \n",
    "    \"A23_df\", \"A24_df\", \"A25_df\", \"A26_df\", \"A27_df\", \"A28_df\", \n",
    "    \"A32_df\", \"A34_df\", \"A36_df\", \"A37_df\", \"A39_df\", \"A42_df\", \n",
    "    \"A43_df\", \"A44_df\", \"A45_df\"\n",
    "]\n",
    "\n",
    "# Dictionary to store the imported DataFrames\n",
    "location_A = {}\n",
    "\n",
    "# Load each CSV file into a DataFrame\n",
    "for df_name in df_names_A:\n",
    "    csv_filename = f\"Datasets\\{df_name}.csv\"\n",
    "    location_A[df_name] = pd.read_csv(csv_filename)"
   ]
  },
  {
   "cell_type": "code",
   "execution_count": 20,
   "metadata": {},
   "outputs": [],
   "source": [
    "# List of DataFrame names for location_B\n",
    "df_names_B = [\n",
    "    \"B4_df\", \"B6_df\", \"B8_df\", \"B9_df\", \"B10_df\", \"B11_df\", \"B13_df\", \n",
    "    \"B14_df\", \"B15_df\", \"B16_df\", \"B17_df\", \"B18_df\", \"B21_df\", \n",
    "    \"B29_df\", \"B30_df\", \"B31_df\", \"B33_df\", \"B35_df\", \"B38_df\", \n",
    "    \"B40_df\", \"B41_df\"\n",
    "]\n",
    "\n",
    "# Dictionary to store the imported DataFrames\n",
    "location_B = {}\n",
    "\n",
    "# Load each CSV file into a DataFrame\n",
    "for df_name in df_names_B:\n",
    "    csv_filename = f\"Datasets\\{df_name}.csv\"\n",
    "    location_B[df_name] = pd.read_csv(csv_filename)"
   ]
  },
  {
   "cell_type": "code",
   "execution_count": null,
   "metadata": {},
   "outputs": [],
   "source": []
  }
 ],
 "metadata": {
  "kernelspec": {
   "display_name": "Python 3",
   "language": "python",
   "name": "python3"
  },
  "language_info": {
   "codemirror_mode": {
    "name": "ipython",
    "version": 3
   },
   "file_extension": ".py",
   "mimetype": "text/x-python",
   "name": "python",
   "nbconvert_exporter": "python",
   "pygments_lexer": "ipython3",
   "version": "3.11.3"
  }
 },
 "nbformat": 4,
 "nbformat_minor": 2
}
